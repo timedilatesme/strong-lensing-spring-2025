{
 "cells": [
  {
   "cell_type": "code",
   "execution_count": 1,
   "id": "6b9b7867",
   "metadata": {},
   "outputs": [
    {
     "name": "stderr",
     "output_type": "stream",
     "text": [
      "/Users/paras/Library/CloudStorage/GoogleDrive-paras.sharma@stonybrook.edu/My Drive/SL Research/codes/repos/self/slsim/slsim/Plots/lens_plots.py:5: UserWarning: If you want to simulate images with Roman filters, please install the galsim module.\n",
      "Note that this module is not supported on Windows\n",
      "  from slsim.roman_image_simulation import simulate_roman_image\n"
     ]
    }
   ],
   "source": [
    "import matplotlib.pyplot as plt\n",
    "from astropy.cosmology import FlatLambdaCDM\n",
    "from astropy.units import Quantity\n",
    "from slsim.lens_pop import LensPop\n",
    "from slsim.Plots.lens_plots import LensingPlots\n",
    "import numpy as np\n",
    "from tqdm import tqdm\n",
    "import corner\n",
    "import slsim.Pipelines as pipelines\n",
    "import slsim.Sources as sources\n",
    "import slsim.Deflectors as deflectors\n",
    "from slsim.lens import Lens\n",
    "from numba import njit, prange\n",
    "from slsim.image_simulation import lens_image, rgb_image_from_image_list\n",
    "from slsim.Util.param_util import gaussian_psf\n",
    "# import standard python modules\n",
    "import copy\n",
    "import matplotlib.patches as mpatches\n",
    "from itertools import combinations\n",
    "\n",
    "%matplotlib inline\n",
    "\n",
    "# import lenstronomy and hierArc modules\n",
    "from lenstronomy.Cosmo.lens_cosmo import LensCosmo\n",
    "from hierarc.Sampling.ParamManager.cosmo_param import CosmoParam\n",
    "from hierarc.Sampling.mcmc_sampling import MCMCSampler\n",
    "\n",
    "from hierarc.Likelihood.LensLikelihood.double_source_plane import (\n",
    "    beta_double_source_plane,\n",
    "    # beta2theta_e_ratio,\n",
    ")\n",
    "\n",
    "\n",
    "from astropy.io import fits\n",
    "from astropy.table import Table"
   ]
  },
  {
   "cell_type": "markdown",
   "id": "a2a75d8f",
   "metadata": {},
   "source": [
    "## Generate population of sources and (potential) deflectors"
   ]
  },
  {
   "cell_type": "code",
   "execution_count": 2,
   "id": "56d72140",
   "metadata": {},
   "outputs": [
    {
     "name": "stderr",
     "output_type": "stream",
     "text": [
      "/Users/paras/Library/CloudStorage/GoogleDrive-paras.sharma@stonybrook.edu/My Drive/SL Research/codes/repos/self/slsim/slsim/Deflectors/all_lens_galaxies.py:54: UserWarning: Angular size is converted to arcsec because provided input_catalog_type is skypy. If this is not correct, please refer to the documentation of the class you are using\n",
      "  red_galaxy_list = catalog_with_angular_size_in_arcsec(\n",
      "/Users/paras/Library/CloudStorage/GoogleDrive-paras.sharma@stonybrook.edu/My Drive/SL Research/codes/repos/self/slsim/slsim/Deflectors/all_lens_galaxies.py:57: UserWarning: Angular size is converted to arcsec because provided input_catalog_type is skypy. If this is not correct, please refer to the documentation of the class you are using\n",
      "  blue_galaxy_list = catalog_with_angular_size_in_arcsec(\n"
     ]
    },
    {
     "name": "stdout",
     "output_type": "stream",
     "text": [
      "LensPop initialized. Potential deflectors: 175238 ; Potential sources: 236717\n"
     ]
    }
   ],
   "source": [
    "# define a cosmology\n",
    "cosmology = \"FwCDM\"  # Flat wCDM cosmology\n",
    "# other options are: \"FLCDM FwCDM\", \"w0waCDM\", \"oLCDM\"\n",
    "kwargs_cosmo_true = {\"h0\": 70, \"om\": 0.3, \"w\": -1}  # cosmological model of the forecast\n",
    "\n",
    "# create astropy.cosmology instance of input cosmology\n",
    "cosmo_param = CosmoParam(cosmology=cosmology)\n",
    "cosmo_true = cosmo_param.cosmo(kwargs_cosmo_true)\n",
    "\n",
    "# define a sky area\n",
    "sky_area = Quantity(value=.5, unit=\"deg2\")\n",
    "\n",
    "\n",
    "# define limits in the intrinsic deflector and source population (in addition to the skypy config\n",
    "# file)\n",
    "kwargs_deflector_cut = {\"band\": \"g\", \"band_max\": 28, \"z_min\": 0.01, \"z_max\": 2.5}\n",
    "kwargs_source_cut = {\"band\": \"g\", \"band_max\": 28, \"z_min\": 0.1, \"z_max\": 5.0}\n",
    "\n",
    "# Generate galaxy population using skypy pipeline.\n",
    "galaxy_simulation_pipeline = pipelines.SkyPyPipeline(\n",
    "    skypy_config=None, sky_area=sky_area, filters=None, cosmo=cosmo_true\n",
    ")\n",
    "\n",
    "# Initiate deflector population class.\n",
    "lens_galaxies = deflectors.AllLensGalaxies(\n",
    "    red_galaxy_list=galaxy_simulation_pipeline.red_galaxies,\n",
    "    blue_galaxy_list=galaxy_simulation_pipeline.blue_galaxies,\n",
    "    kwargs_cut=kwargs_deflector_cut,\n",
    "    kwargs_mass2light=None,\n",
    "    cosmo=cosmo_true,\n",
    "    sky_area=sky_area,\n",
    ")\n",
    "\n",
    "# Initiate source population class.\n",
    "source_galaxies = sources.Galaxies(\n",
    "    galaxy_list=galaxy_simulation_pipeline.blue_galaxies,\n",
    "    kwargs_cut=kwargs_source_cut,\n",
    "    cosmo=cosmo_true,\n",
    "    sky_area=sky_area,\n",
    "    catalog_type=\"skypy\",\n",
    ")\n",
    "\n",
    "# make galaxy-galaxy population class using LensPop\n",
    "gg_lens_pop = LensPop(\n",
    "    deflector_population=lens_galaxies,\n",
    "    source_population=source_galaxies,\n",
    "    cosmo=cosmo_true,\n",
    "    sky_area=sky_area,\n",
    ")\n",
    "\n",
    "# make lensplot class for extracting rgb images\n",
    "gg_plot = LensingPlots(gg_lens_pop, num_pix=100, coadd_years=10)\n",
    "\n",
    "print(f\"LensPop initialized. Potential deflectors: {gg_lens_pop.deflector_number} ; Potential sources: {gg_lens_pop.source_number}\");"
   ]
  },
  {
   "cell_type": "code",
   "execution_count": 3,
   "id": "42a86bef",
   "metadata": {},
   "outputs": [
    {
     "name": "stdout",
     "output_type": "stream",
     "text": [
      "Number of selected lenses: 135\n"
     ]
    }
   ],
   "source": [
    "# kwargs_lens_cut = {\"min_image_separation\": 1, \"max_image_separation\": 10}\n",
    "kwargs_lens_cut = {}\n",
    "selected_lenses = gg_lens_pop.draw_population(\n",
    "    kwargs_lens_cuts=kwargs_lens_cut,\n",
    ")\n",
    "print(f\"Number of selected lenses: {len(selected_lenses)}\")"
   ]
  },
  {
   "cell_type": "code",
   "execution_count": 7,
   "id": "91f1ac6a",
   "metadata": {},
   "outputs": [
    {
     "data": {
      "text/plain": [
       "({'lens_light_model_list': ['SERSIC_ELLIPSE'],\n",
       "  'lens_model_list': ['SIE', 'SHEAR', 'CONVERGENCE'],\n",
       "  'source_light_model_list': ['SERSIC_ELLIPSE']},\n",
       " {'kwargs_lens': [{'theta_E': 0.5955123395719759,\n",
       "    'e1': 0.3092705382684641,\n",
       "    'e2': -0.11054502342629419,\n",
       "    'center_x': 0.005850682352719584,\n",
       "    'center_y': -0.010643665283328153},\n",
       "   {'gamma1': 0.01353435210800463,\n",
       "    'gamma2': -0.015023017489974994,\n",
       "    'ra_0': 0,\n",
       "    'dec_0': 0},\n",
       "   {'kappa': 0.008019820365178065, 'ra_0': 0, 'dec_0': 0}],\n",
       "  'kwargs_source': [{'magnitude': 1,\n",
       "    'R_sersic': 0.03922959107320442,\n",
       "    'n_sersic': 1.0,\n",
       "    'e1': -0.15853497086921006,\n",
       "    'e2': -0.28329820059090194,\n",
       "    'center_x': 0.05679485325721026,\n",
       "    'center_y': 0.09395017411233209}],\n",
       "  'kwargs_lens_light': [{'magnitude': 1,\n",
       "    'R_sersic': 0.6016560690370282,\n",
       "    'n_sersic': 4.0,\n",
       "    'e1': 0.20720545771807206,\n",
       "    'e2': -0.02947510775407299,\n",
       "    'center_x': 0.005850682352719584,\n",
       "    'center_y': -0.010643665283328153}],\n",
       "  'kwargs_ps': None})"
      ]
     },
     "execution_count": 7,
     "metadata": {},
     "output_type": "execute_result"
    }
   ],
   "source": [
    "selected_lenses[0].lenstronomy_kwargs()"
   ]
  },
  {
   "cell_type": "code",
   "execution_count": null,
   "id": "1216f240",
   "metadata": {},
   "outputs": [],
   "source": []
  }
 ],
 "metadata": {
  "kernelspec": {
   "display_name": "base",
   "language": "python",
   "name": "python3"
  },
  "language_info": {
   "codemirror_mode": {
    "name": "ipython",
    "version": 3
   },
   "file_extension": ".py",
   "mimetype": "text/x-python",
   "name": "python",
   "nbconvert_exporter": "python",
   "pygments_lexer": "ipython3",
   "version": "3.12.9"
  }
 },
 "nbformat": 4,
 "nbformat_minor": 5
}
